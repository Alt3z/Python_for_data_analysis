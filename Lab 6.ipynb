{
  "nbformat": 4,
  "nbformat_minor": 0,
  "metadata": {
    "colab": {
      "provenance": []
    },
    "kernelspec": {
      "name": "python3",
      "display_name": "Python 3"
    },
    "language_info": {
      "name": "python"
    }
  },
  "cells": [
    {
      "cell_type": "markdown",
      "source": [
        "Задание 1:\n",
        "1. Создайте Series из последовательности 15 значений, равномерно разбивающих отрезок [0,\n",
        "20] (воспользуйтесь функцией linspace)\n",
        "2. Определите отношение элементов полученной серии к их предыдущим элементам (*).\n",
        "3. В результате необходимо получить среднее полученного вектора, оставив в нём только те\n",
        "значения, которые не более чем 1.5 (**).\n"
      ],
      "metadata": {
        "id": "7P_QhA_WOXg9"
      }
    },
    {
      "cell_type": "code",
      "source": [
        "import pandas as pd\n",
        "import numpy as np\n",
        "\n",
        "series = pd.Series(np.linspace(0, 20, num=15))\n",
        "print(f'Series из 15 значений:\\n{series}')\n",
        "\n",
        "ratio = series / series.shift(1)\n",
        "print(f'\\nОтношение:\\n{ratio}')\n",
        "\n",
        "mean = np.mean(ratio[ratio <= 1.5])\n",
        "print(f'\\nCреднее полученного вектора:\\n{mean}')"
      ],
      "metadata": {
        "colab": {
          "base_uri": "https://localhost:8080/"
        },
        "id": "7PH2Dbt4ObYM",
        "outputId": "6e5dbdd6-caa6-458e-c0fa-89d97c077e74"
      },
      "execution_count": null,
      "outputs": [
        {
          "output_type": "stream",
          "name": "stdout",
          "text": [
            "Series из 15 значений:\n",
            "0      0.000000\n",
            "1      1.428571\n",
            "2      2.857143\n",
            "3      4.285714\n",
            "4      5.714286\n",
            "5      7.142857\n",
            "6      8.571429\n",
            "7     10.000000\n",
            "8     11.428571\n",
            "9     12.857143\n",
            "10    14.285714\n",
            "11    15.714286\n",
            "12    17.142857\n",
            "13    18.571429\n",
            "14    20.000000\n",
            "dtype: float64\n",
            "\n",
            "Отношение:\n",
            "0          NaN\n",
            "1          inf\n",
            "2     2.000000\n",
            "3     1.500000\n",
            "4     1.333333\n",
            "5     1.250000\n",
            "6     1.200000\n",
            "7     1.166667\n",
            "8     1.142857\n",
            "9     1.125000\n",
            "10    1.111111\n",
            "11    1.100000\n",
            "12    1.090909\n",
            "13    1.083333\n",
            "14    1.076923\n",
            "dtype: float64\n",
            "\n",
            "Cреднее полученного вектора:\n",
            "1.181677812927813\n"
          ]
        }
      ]
    },
    {
      "cell_type": "markdown",
      "source": [
        "Задание 2:\n",
        "Выберите все верные ответы касательно следующих четырех Series:\n",
        "- pd.Series('abcde'); (1)\n",
        "- pd.Series(['abcde']); (2)\n",
        "- pd.Series(list('abcde')); (3)\n",
        "- pd.Series(\"abcde\"); (4)\n",
        "Вопросы:\n",
        "1) Серия (1) совпадает с серией (2), так как в каждом из случаев серия создаётся и\n",
        "з списка строк\n",
        "2) Серия (2) совпадает с серией (3), так как в каждом из случаев серия создаётся и\n",
        "з списка символов\n",
        "3) Серия (1) не совпадает с серией (4), так как в (4) используются двойные кавычк\n",
        "и \"\" вместо одинарных ''\n",
        "\n",
        "Овет: 1"
      ],
      "metadata": {
        "id": "TJB3wOL1OgmP"
      }
    },
    {
      "cell_type": "code",
      "source": [
        "pd.Series('abcde')\n",
        "print(pd.Series('abcde'))\n",
        "pd.Series(['abcde'])\n",
        "print(pd.Series(['abcde']))\n",
        "pd.Series(list('abcde'))\n",
        "print(pd.Series(list('abcde')))\n",
        "pd.Series(\"abcde\")\n",
        "pd.Series(pd.Series(\"abcde\"))"
      ],
      "metadata": {
        "colab": {
          "base_uri": "https://localhost:8080/"
        },
        "id": "nCD8bm5lZaxz",
        "outputId": "93723b6e-5b63-443b-d5bf-96dc560ff35c"
      },
      "execution_count": null,
      "outputs": [
        {
          "output_type": "stream",
          "name": "stdout",
          "text": [
            "0    abcde\n",
            "dtype: object\n",
            "0    abcde\n",
            "dtype: object\n",
            "0    a\n",
            "1    b\n",
            "2    c\n",
            "3    d\n",
            "4    e\n",
            "dtype: object\n"
          ]
        },
        {
          "output_type": "execute_result",
          "data": {
            "text/plain": [
              "0    abcde\n",
              "dtype: object"
            ]
          },
          "metadata": {},
          "execution_count": 4
        }
      ]
    },
    {
      "cell_type": "markdown",
      "source": [
        "Задание 3:\n",
        "\n",
        "Для заданного ниже объекта s проделайте следующее:\n",
        "1. Создайте новый Series, значения которого совпадают со значениями s, а индексы -\n",
        "целочисленные значения от 2 до 12, не включая 12.\n",
        "2. Выберите из s элементы с индексами 3 и 5, после чего просуммируйте их, сохранив\n",
        "результат (1).\n",
        "3. Выберите из s только целочисленные элементы и вычислите их дисперсию (2). (*)\n",
        "s = pd.Series(data=['1', 2, 3.1, 'hi!', 5, -512, 12.42, 'sber', 10.10, 98],\n",
        " index=range(6, 26, 2))"
      ],
      "metadata": {
        "id": "bYDYtaOeUKsF"
      }
    },
    {
      "cell_type": "code",
      "source": [
        "series = pd.Series(data=['1', 2, 3.1, 'hi!', 5, -512, 12.42, 'sber', 10.10, 98], index=range(6, 26, 2))\n",
        "\n",
        "series2 = pd.Series(series.values, index=range(2, 12))\n",
        "print(f'Новый series с индексами 2 - 12:\\n{series2}')\n",
        "\n",
        "#print(f'\\nСумма элементов с индексами 3 и 5: {float(series[3]) + float(series[5])}')\n",
        "\n",
        "a = series[series.apply(lambda x: isinstance(x, int))]\n",
        "print(f'Дисперсия:\\n{a.var()}')"
      ],
      "metadata": {
        "colab": {
          "base_uri": "https://localhost:8080/"
        },
        "id": "A1QeFf72Oi8G",
        "outputId": "5c91f6dc-0d18-4d57-e175-b61ac8a21267"
      },
      "execution_count": null,
      "outputs": [
        {
          "output_type": "stream",
          "name": "stdout",
          "text": [
            "Новый series с индексами 2 - 12:\n",
            "2         1\n",
            "3         2\n",
            "4       3.1\n",
            "5       hi!\n",
            "6         5\n",
            "7      -512\n",
            "8     12.42\n",
            "9      sber\n",
            "10     10.1\n",
            "11       98\n",
            "dtype: object\n",
            "Новый series с индексами 2 - 12:\n",
            "76788.25\n"
          ]
        }
      ]
    },
    {
      "cell_type": "markdown",
      "source": [
        "Задание 4:\n",
        "1. Сгенерируйте Series из 100 значений нормально распределённой СВ\n",
        "(np.random.normal с дефолтными параметрами - нулевым средним и единичной\n",
        "дисперсией).\n",
        "2. Возведите каждое значение серии в 3 степень, а значения индекса увеличьте в 3\n",
        "раза.\n",
        "3. Ответьте на следующие вопросы\n",
        " 1) Выведите сумму элементов, строго меньших 2.6, имеющих нечётные\n",
        "значения индекса.\n",
        " 2) Выведите количество значений серии меньше нуля.\n",
        "Для того, чтобы результаты были воспроизводимы, используйте np.random.seed(242)"
      ],
      "metadata": {
        "id": "BSXjXccbXDNX"
      }
    },
    {
      "cell_type": "code",
      "source": [
        "np.random.seed(242)\n",
        "\n",
        "series = pd.Series(np.random.normal(size=100)**3, index = [x*3 for x in range(100)])\n",
        "print(f'Series:\\n{series}')\n",
        "\n",
        "print(f'\\nСумма: {series[(series.index % 2 != 0) & (series < 2.6 )].sum()}')\n",
        "\n",
        "print(f'\\nКоличество значений меньше 0: {series[series<0].count()}')"
      ],
      "metadata": {
        "colab": {
          "base_uri": "https://localhost:8080/"
        },
        "id": "XmK6Yck0XFnh",
        "outputId": "a7cd30d5-1c37-41ff-b280-d82146f714c0"
      },
      "execution_count": null,
      "outputs": [
        {
          "output_type": "stream",
          "name": "stdout",
          "text": [
            "Series:\n",
            "0     -0.045698\n",
            "3      0.003271\n",
            "6      0.980718\n",
            "9      6.219024\n",
            "12    -0.411874\n",
            "         ...   \n",
            "285    0.858176\n",
            "288    0.400829\n",
            "291   -0.405199\n",
            "294   -2.606764\n",
            "297    0.000143\n",
            "Length: 100, dtype: float64\n",
            "\n",
            "Сумма: -15.150748101821666\n",
            "\n",
            "Количество значений меньше 0: 51\n"
          ]
        }
      ]
    },
    {
      "cell_type": "markdown",
      "source": [
        "Задание 5:\n"
      ],
      "metadata": {
        "id": "JKO9NxfcYHfA"
      }
    },
    {
      "cell_type": "code",
      "source": [
        "data = pd.read_table(\"wr88125.txt\", sep = \";\", na_values='     ', header=None)\n",
        "\n",
        "data.columns = [\"index\", \"year\", \"month\", \"day\", \"min_t\", \"average_t\", \"max_t\", \"rainfall\"]\n",
        "\n",
        "data.drop('index', axis=1, inplace=True)\n",
        "print(f'Таблица после удаление index:\\n{data}')\n",
        "\n",
        "print(f'{data.info()}')\n",
        "\n",
        "max_year = data.isnull().groupby(data['year']).sum().sum(axis=1).idxmax()\n",
        "print(f'\\nГод с наибольшим количеством пропусков: {max_year}')\n",
        "\n",
        "data['date'] = pd.to_datetime(data[['year', 'month', 'day']])\n",
        "data.drop(['year', 'month', 'day'], axis=1, inplace=True)\n",
        "\n",
        "print(f'Таблица после объединение год, месяц, день:\\n{data}\\n')\n",
        "\n",
        "data['RangeOfTemp'] = 0\n",
        "data['DaysWithoutRain'] = 0\n",
        "\n",
        "for i in range(len(data)):\n",
        "    min_t = data.loc[i, 'min_t']\n",
        "    max_t = data.loc[i, 'max_t']\n",
        "    temp_range = max_t - min_t\n",
        "    data.loc[i, 'RangeOfTemp'] = temp_range\n",
        "\n",
        "NoRain = 0\n",
        "for i in range(len(data)):\n",
        "    data.loc[i, 'DaysWithoutRain'] = NoRain\n",
        "    rainfall = data.loc[i, 'rainfall']\n",
        "    if rainfall == 0.0: NoRain += 1\n",
        "    else: NoRain = 0\n",
        "\n",
        "print(f'Таблица после вычисление размаха температур и дней засухи:\\n{data}\\n')\n",
        "\n",
        "MaxNoRain = data['DaysWithoutRain'].max()\n",
        "print(f'\\nСамый длинный период засухи: {MaxNoRain}')\n",
        "\n",
        "AVGtemp = data.groupby(pd.DatetimeIndex(data['date']).year)['average_t'].mean()\n",
        "AVGrain = data.groupby(pd.DatetimeIndex(data['date']).year)['rainfall'].sum()\n",
        "\n",
        "Warm = AVGtemp.idxmax()\n",
        "print(f'\\nСамый тёплый год: {Warm}\\n')\n",
        "Cold = AVGtemp.idxmin()\n",
        "print(f'Самый холодный год: {Cold}\\n')\n",
        "\n",
        "MoreRain = AVGrain.idxmax()\n",
        "print(f'Год с наибольшим количеством осадков: {MoreRain}')\n",
        "LowRain = AVGrain.idxmin()\n",
        "print(f'Год с наименьшим количеством осадков: {LowRain}')\n",
        "\n",
        "filter = data[data['average_t'] < -30]\n",
        "print(f'\\nНаблюдения с средней температурой ниже -30:\\n{filter}')\n",
        "\n",
        "filter2 = data[(data['average_t'] > 27) & (data['DaysWithoutRain'] > 3)]\n",
        "print(f'\\nНаблюдения с средней температурой выше 27 и количеством дней без осадков больше 3:\\n{filter2}')"
      ],
      "metadata": {
        "colab": {
          "base_uri": "https://localhost:8080/"
        },
        "id": "rTi0JxlbYJfD",
        "outputId": "d7f78da7-81d7-41b6-bb9b-92b4041a8f7a"
      },
      "execution_count": null,
      "outputs": [
        {
          "output_type": "stream",
          "name": "stdout",
          "text": [
            "Таблица после удаление index:\n",
            "       year  month  day  min_t  average_t  max_t  rainfall\n",
            "0      1960      1    1   -6.9       -5.4   -3.8       0.1\n",
            "1      1960      1    2  -14.4      -10.0   -6.7       0.5\n",
            "2      1960      1    3  -21.7      -19.7  -13.4       0.0\n",
            "3      1960      1    4  -24.9      -21.4  -16.9       0.0\n",
            "4      1960      1    5  -18.3       -8.0   -3.3       4.1\n",
            "...     ...    ...  ...    ...        ...    ...       ...\n",
            "22276  2020     12   27  -41.7      -36.3  -32.8       0.0\n",
            "22277  2020     12   28  -40.1      -34.2  -25.5       0.0\n",
            "22278  2020     12   29  -28.2      -23.9  -18.6       0.0\n",
            "22279  2020     12   30  -21.8      -13.6   -9.9       0.8\n",
            "22280  2020     12   31  -23.2      -19.0  -10.0       1.4\n",
            "\n",
            "[22281 rows x 7 columns]\n",
            "<class 'pandas.core.frame.DataFrame'>\n",
            "RangeIndex: 22281 entries, 0 to 22280\n",
            "Data columns (total 7 columns):\n",
            " #   Column     Non-Null Count  Dtype  \n",
            "---  ------     --------------  -----  \n",
            " 0   year       22281 non-null  int64  \n",
            " 1   month      22281 non-null  int64  \n",
            " 2   day        22281 non-null  int64  \n",
            " 3   min_t      22255 non-null  float64\n",
            " 4   average_t  22255 non-null  float64\n",
            " 5   max_t      21717 non-null  float64\n",
            " 6   rainfall   22253 non-null  float64\n",
            "dtypes: float64(4), int64(3)\n",
            "memory usage: 1.2 MB\n",
            "info():\n",
            "None\n",
            "\n",
            "Год с наибольшим количеством пропусков: 1961\n",
            "Таблица после объединение год, месяц, день:\n",
            "       min_t  average_t  max_t  rainfall       date\n",
            "0       -6.9       -5.4   -3.8       0.1 1960-01-01\n",
            "1      -14.4      -10.0   -6.7       0.5 1960-01-02\n",
            "2      -21.7      -19.7  -13.4       0.0 1960-01-03\n",
            "3      -24.9      -21.4  -16.9       0.0 1960-01-04\n",
            "4      -18.3       -8.0   -3.3       4.1 1960-01-05\n",
            "...      ...        ...    ...       ...        ...\n",
            "22276  -41.7      -36.3  -32.8       0.0 2020-12-27\n",
            "22277  -40.1      -34.2  -25.5       0.0 2020-12-28\n",
            "22278  -28.2      -23.9  -18.6       0.0 2020-12-29\n",
            "22279  -21.8      -13.6   -9.9       0.8 2020-12-30\n",
            "22280  -23.2      -19.0  -10.0       1.4 2020-12-31\n",
            "\n",
            "[22281 rows x 5 columns]\n",
            "\n",
            "Таблица после вычисление размаха температур и дней засухи:\n",
            "       min_t  average_t  max_t  rainfall       date  RangeOfTemp  \\\n",
            "0       -6.9       -5.4   -3.8       0.1 1960-01-01          3.1   \n",
            "1      -14.4      -10.0   -6.7       0.5 1960-01-02          7.7   \n",
            "2      -21.7      -19.7  -13.4       0.0 1960-01-03          8.3   \n",
            "3      -24.9      -21.4  -16.9       0.0 1960-01-04          8.0   \n",
            "4      -18.3       -8.0   -3.3       4.1 1960-01-05         15.0   \n",
            "...      ...        ...    ...       ...        ...          ...   \n",
            "22276  -41.7      -36.3  -32.8       0.0 2020-12-27          8.9   \n",
            "22277  -40.1      -34.2  -25.5       0.0 2020-12-28         14.6   \n",
            "22278  -28.2      -23.9  -18.6       0.0 2020-12-29          9.6   \n",
            "22279  -21.8      -13.6   -9.9       0.8 2020-12-30         11.9   \n",
            "22280  -23.2      -19.0  -10.0       1.4 2020-12-31         13.2   \n",
            "\n",
            "       DaysWithoutRain  \n",
            "0                    0  \n",
            "1                    0  \n",
            "2                    0  \n",
            "3                    1  \n",
            "4                    2  \n",
            "...                ...  \n",
            "22276                1  \n",
            "22277                2  \n",
            "22278                3  \n",
            "22279                4  \n",
            "22280                0  \n",
            "\n",
            "[22281 rows x 7 columns]\n",
            "\n",
            "\n",
            "Самый длинный период засухи: 27\n",
            "\n",
            "Самый тёплый год: 2020\n",
            "\n",
            "Самый холодный год: 1969\n",
            "\n",
            "Год с наибольшим количеством осадков: 1970\n",
            "Год с наименьшим количеством осадков: 1973\n",
            "\n",
            "Наблюдения с средней температурой ниже -30:\n",
            "       min_t  average_t  max_t  rainfall       date  RangeOfTemp  \\\n",
            "17     -31.4      -31.2  -27.2       0.0 1960-01-18          4.2   \n",
            "18     -35.8      -33.2  -29.7       0.0 1960-01-19          6.1   \n",
            "323    -31.3      -30.1    NaN       0.8 1960-11-19          NaN   \n",
            "361    -34.2      -30.2    NaN       0.0 1960-12-27          NaN   \n",
            "373    -36.2      -34.5    NaN       0.0 1961-01-08          NaN   \n",
            "...      ...        ...    ...       ...        ...          ...   \n",
            "21585  -38.0      -32.0  -24.3       0.0 2019-02-05         13.7   \n",
            "21588  -38.3      -32.8  -24.8       0.0 2019-02-08         13.5   \n",
            "22275  -35.5      -31.6  -23.4       0.0 2020-12-26         12.1   \n",
            "22276  -41.7      -36.3  -32.8       0.0 2020-12-27          8.9   \n",
            "22277  -40.1      -34.2  -25.5       0.0 2020-12-28         14.6   \n",
            "\n",
            "       DaysWithoutRain  \n",
            "17                   1  \n",
            "18                   2  \n",
            "323                  0  \n",
            "361                  1  \n",
            "373                  0  \n",
            "...                ...  \n",
            "21585                1  \n",
            "21588                4  \n",
            "22275                0  \n",
            "22276                1  \n",
            "22277                2  \n",
            "\n",
            "[241 rows x 7 columns]\n",
            "\n",
            "Наблюдения с средней температурой выше 27 и количеством дней без осадков больше 3:\n",
            "       min_t  average_t  max_t  rainfall       date  RangeOfTemp  \\\n",
            "1270    19.4       27.4   33.4       0.0 1963-06-24         14.0   \n",
            "2029    19.8       27.3   35.0       0.0 1965-07-22         15.2   \n",
            "3471    21.4       27.1   33.2       0.0 1969-07-03         11.8   \n",
            "3472    22.1       28.9   35.5       0.0 1969-07-04         13.4   \n",
            "3473    23.2       27.9   34.2       0.0 1969-07-05         11.0   \n",
            "5305    16.9       27.8   37.9       0.0 1974-07-11         21.0   \n",
            "6381    19.5       27.2   32.9       0.0 1977-06-21         13.4   \n",
            "8601    20.4       27.2   33.7       0.0 1983-07-20         13.3   \n",
            "10395   19.4       28.3   36.6       0.0 1988-06-17         17.2   \n",
            "11884   17.9       28.0   37.1       0.0 1992-07-15         19.2   \n",
            "15563   21.7       28.5   38.3       0.0 2002-08-11         16.6   \n",
            "\n",
            "       DaysWithoutRain  \n",
            "1270                 8  \n",
            "2029                 9  \n",
            "3471                 4  \n",
            "3472                 5  \n",
            "3473                 6  \n",
            "5305                18  \n",
            "6381                24  \n",
            "8601                 6  \n",
            "10395                6  \n",
            "11884                6  \n",
            "15563                9  \n"
          ]
        }
      ]
    }
  ]
}