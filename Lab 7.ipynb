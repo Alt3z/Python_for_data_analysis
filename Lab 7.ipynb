{
  "nbformat": 4,
  "nbformat_minor": 0,
  "metadata": {
    "colab": {
      "provenance": []
    },
    "kernelspec": {
      "name": "python3",
      "display_name": "Python 3"
    },
    "language_info": {
      "name": "python"
    }
  },
  "cells": [
    {
      "cell_type": "code",
      "execution_count": null,
      "metadata": {
        "colab": {
          "base_uri": "https://localhost:8080/"
        },
        "id": "TB62jFnmGiZE",
        "outputId": "f219e52d-a751-4102-fad2-aedd75898dee"
      },
      "outputs": [
        {
          "output_type": "stream",
          "name": "stdout",
          "text": [
            "Таблица:\n",
            "     tr_type                                     tr_description\n",
            "0       3200  Плата за предоставление услуг посредством моби...\n",
            "1       3210  Плата за предоставление отчета по счету карты ...\n",
            "2       3800  Плата за обслуживание банковской карты (за пер...\n",
            "3       4000            Плата за получение наличных в Сбербанке\n",
            "4       4001  Плата за получение наличных в Сбербанке (в дру...\n",
            "..       ...                                                ...\n",
            "150     2990                             Списание по требованию\n",
            "151     2992  Списание средств для погашения задолженности п...\n",
            "152     3001            Комиссия за обслуживание ссудного счета\n",
            "153     3030  Плата за обслуживание банковской карты (за пос...\n",
            "154     3120                Плата за досрочный перевыпуск карты\n",
            "\n",
            "[155 rows x 2 columns]\n",
            "\n",
            "Доля подстрок содержащих 'плата': 0.26\n"
          ]
        }
      ],
      "source": [
        "import pandas as pd\n",
        "import numpy as np\n",
        "\n",
        "df = pd.read_csv(\"tr_types.csv\", sep=\";\")\n",
        "print(f\"Таблица:\\n{df}\\n\")\n",
        "\n",
        "seed = np.random.seed(242)\n",
        "\n",
        "sample = df.sample(n=100, random_state=242)\n",
        "\n",
        "plata = sample['tr_description'].str.contains('плата', case=False).mean()\n",
        "\n",
        "print(f\"Доля подстрок содержащих 'плата': {plata:.2f}\")"
      ]
    },
    {
      "cell_type": "code",
      "source": [
        "transactions = pd.read_csv( \"transactions.csv\", sep=',',nrows = 1000000)\n",
        "types = pd.read_csv( \"tr_types.csv\", sep=';' )\n",
        "\n",
        "freq = transactions[\"tr_type\"].value_counts()\n",
        "print(f\"Частота всех типов транзакций:\\n{freq}\\n\")\n",
        "\n",
        "freq = freq.head(5)\n",
        "names = freq.index.to_list()\n",
        "top = types.loc[types['tr_type'].isin(names)]\n",
        "print(f\"Топ 5 транзакций:\\n{top}\\n\")\n",
        "\n",
        "ans = {'Выдача наличных в АТМ Сбербанк России',\n",
        "    'Комиссия за обслуживание ссудного счета',\n",
        "    'Списание по требованию',\n",
        "    'Оплата услуги. Банкоматы СБ РФ',\n",
        "    'Погашение кредита (в пределах одного филиала)',\n",
        "    'Покупка. POS ТУ СБ РФ'}\n",
        "\n",
        "answer = top[top['tr_description'].isin(ans)]\n",
        "\n",
        "print(f\"Верные пункты: 1,4,6. Таблица только с этими пунктами:\\n{answer}\")"
      ],
      "metadata": {
        "colab": {
          "base_uri": "https://localhost:8080/"
        },
        "id": "8YNImqnEKVut",
        "outputId": "69409448-533a-4899-9821-7eef151e2600"
      },
      "execution_count": null,
      "outputs": [
        {
          "output_type": "stream",
          "name": "stdout",
          "text": [
            "Частота всех типов транзакций:\n",
            "1010    231117\n",
            "2010    151166\n",
            "7070    149006\n",
            "1110    137658\n",
            "1030    118975\n",
            "         ...  \n",
            "2446         4\n",
            "4096         4\n",
            "8146         3\n",
            "1510         2\n",
            "8100         2\n",
            "Name: tr_type, Length: 72, dtype: int64\n",
            "\n",
            "Топ 5 транзакций:\n",
            "     tr_type                                     tr_description\n",
            "59      7070  Перевод на карту (с карты) через Мобильный бан...\n",
            "98      1010                              Покупка. POS ТУ СБ РФ\n",
            "99      1030                     Оплата услуги. Банкоматы СБ РФ\n",
            "101     1110                             Покупка. POS ТУ Россия\n",
            "106     2010              Выдача наличных в АТМ Сбербанк России\n",
            "\n",
            "Верные пункты: 1,4,6. Таблица только с этими пунктами:\n",
            "     tr_type                         tr_description\n",
            "98      1010                  Покупка. POS ТУ СБ РФ\n",
            "99      1030         Оплата услуги. Банкоматы СБ РФ\n",
            "106     2010  Выдача наличных в АТМ Сбербанк России\n"
          ]
        }
      ]
    },
    {
      "cell_type": "code",
      "source": [
        "data = pd.read_csv( \"transactions.csv\", sep=',',nrows = 1000000)\n",
        "data.set_index(\"customer_id\", inplace=True)\n",
        "\n",
        "ID = data['amount'].idxmax();\n",
        "print(f\"ID клиента с максимальной суммой пополнения: {ID}\\n\")\n",
        "\n",
        "ID_transactions = data.loc[ID]\n",
        "ABS = ID_transactions['amount'].abs().mode().iloc[0]\n",
        "\n",
        "print(f\"Наиболее встречающийся модуль: {ABS}\")"
      ],
      "metadata": {
        "colab": {
          "base_uri": "https://localhost:8080/"
        },
        "id": "cDQM_nWLvD-Y",
        "outputId": "b18e26a6-fe42-4617-bd78-14bce758df62"
      },
      "execution_count": null,
      "outputs": [
        {
          "output_type": "stream",
          "name": "stdout",
          "text": [
            "ID клиента с максимальной суммой пополнения: 26782922\n",
            "\n",
            "Наиболее встречающийся модуль: 22459.16\n"
          ]
        }
      ]
    },
    {
      "cell_type": "code",
      "source": [
        "data = pd.read_csv( \"transactions.csv\", sep=',',nrows = 1000000)\n",
        "data.set_index(\"customer_id\", inplace=True)\n",
        "\n",
        "sum1 = np.median(data['amount'])\n",
        "print(f\"Медиана суммы транзакций: {sum1:.2f}\\n\")\n",
        "\n",
        "\n",
        "WithoutNull = data.dropna()\n",
        "sum2 = np.median(WithoutNull['amount'])\n",
        "print(f\"Медиана суммы транзакций без пустых строк: {sum2:.2f}\\n\")\n",
        "\n",
        "\n",
        "UniqueRows = data.sort_values('amount').drop_duplicates(subset=['mcc_code', 'tr_type'], keep='last')\n",
        "sum3 = np.median(UniqueRows['amount'])\n",
        "print(f\"Медиана суммы транзакций по строкам, отсортированным по полю amount в порядке возрастания: {sum3:.2f}\\n\")\n",
        "\n",
        "Difference = np.ptp([sum1, sum2, sum3])\n",
        "print(f\"Максимальная разница между медианами суммы транзакций: {Difference:.2f}\")"
      ],
      "metadata": {
        "colab": {
          "base_uri": "https://localhost:8080/"
        },
        "id": "qX5xsqLVAew3",
        "outputId": "b9bc8201-b5ab-4085-ecb3-3451ddd8936e"
      },
      "execution_count": null,
      "outputs": [
        {
          "output_type": "stream",
          "name": "stdout",
          "text": [
            "Медиана суммы транзакций: -5614.79\n",
            "\n",
            "Медиана суммы транзакций без пустых строк: -5596.60\n",
            "\n",
            "Медиана суммы транзакций по строкам, отсортированным по полю amount в порядке возрастания: -920.83\n",
            "\n",
            "Максимальная разница между медианами суммы транзакций: 4693.96\n"
          ]
        }
      ]
    }
  ]
}